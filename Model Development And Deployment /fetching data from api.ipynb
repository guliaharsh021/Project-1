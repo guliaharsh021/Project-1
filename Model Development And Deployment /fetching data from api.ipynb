{
 "cells": [
  {
   "cell_type": "code",
   "execution_count": 3,
   "id": "0046ec50-c1a3-4270-aa8d-900887760873",
   "metadata": {},
   "outputs": [
    {
     "name": "stdout",
     "output_type": "stream",
     "text": [
      "{'predicted_price': 130.6934051513672}\n"
     ]
    }
   ],
   "source": [
    "import requests\n",
    "\n",
    "# Define the URL of your deployed API\n",
    "url = 'https://project-api-t83x.onrender.com/predict'\n",
    "\n",
    "# Define the input data\n",
    "data = {\n",
    "    \"location\": \"Dwarka, Delhi\",\n",
    "    \"bhk\": 3,\n",
    "    \"furnishing\": \"Furnished\",\n",
    "    \"size\": 1200\n",
    "}\n",
    "\n",
    "# Make the POST request\n",
    "response = requests.post(url, json=data)\n",
    "\n",
    "# Check the response\n",
    "print(response.json())"
   ]
  },
  {
   "cell_type": "code",
   "execution_count": null,
   "id": "ebbe3d8e-773d-49bd-bc68-5e9130e6adbf",
   "metadata": {},
   "outputs": [],
   "source": []
  }
 ],
 "metadata": {
  "kernelspec": {
   "display_name": "Python 3 (ipykernel)",
   "language": "python",
   "name": "python3"
  },
  "language_info": {
   "codemirror_mode": {
    "name": "ipython",
    "version": 3
   },
   "file_extension": ".py",
   "mimetype": "text/x-python",
   "name": "python",
   "nbconvert_exporter": "python",
   "pygments_lexer": "ipython3",
   "version": "3.9.6"
  }
 },
 "nbformat": 4,
 "nbformat_minor": 5
}
